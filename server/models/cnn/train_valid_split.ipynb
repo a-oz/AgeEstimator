{
 "cells": [
  {
   "cell_type": "markdown",
   "metadata": {},
   "source": [
    "Further split the training data into `training` and `validation` in their corresponding folder, so we can use `ImageDataGenerator` and `flow_from_directory` in deep learning.\n",
    "\n"
   ]
  },
  {
   "cell_type": "code",
   "execution_count": 6,
   "metadata": {},
   "outputs": [],
   "source": [
    "import sys\n",
    "import os\n",
    "import glob\n",
    "import random\n",
    "import shutil\n",
    "\n",
    "# Workaround to make packages work in both Jupyter notebook and Python\n",
    "module_root_name = \"AgeEstimator\"\n",
    "module_paths = [\n",
    "    os.path.abspath(os.path.join('..')),\n",
    "    os.path.abspath(os.path.join('../..')),\n",
    "    os.path.abspath(os.path.join('../../..'))\n",
    "]\n",
    "module_paths = list(filter(lambda x: x.endswith(module_root_name), module_paths))\n",
    "module_path = module_paths[0] if len(module_paths) == 1 else \"\"\n",
    "if module_path not in sys.path:\n",
    "    sys.path.append(module_path)\n",
    "\n",
    "from server.data import dirs"
   ]
  },
  {
   "cell_type": "code",
   "execution_count": 14,
   "metadata": {},
   "outputs": [],
   "source": [
    "def main():\n",
    "    valid_dir = os.path.join(dirs.curr_dir, \"dataset\", \"valid\")\n",
    "    dataset_dir = glob.glob(os.path.join(dirs.train_dir, \"*.jpg\"))\n",
    "    \n",
    "    assert(len(dataset_dir) > 0)\n",
    "    \n",
    "    os.makedirs(valid_dir, exist_ok=True)\n",
    "\n",
    "    # Shuffle\n",
    "    random.shuffle(dataset_dir)\n",
    "\n",
    "    # 80/20 split\n",
    "    n_valid = len(dataset_dir) * 2 // 10\n",
    "\n",
    "    for src in dataset_dir[:n_valid]:\n",
    "        dst = os.path.join(valid_dir, os.path.split(src)[-1])\n",
    "        shutil.move(src, dst)"
   ]
  },
  {
   "cell_type": "code",
   "execution_count": 15,
   "metadata": {},
   "outputs": [],
   "source": [
    "if __name__ == \"__main__\":\n",
    "    main()"
   ]
  },
  {
   "cell_type": "code",
   "execution_count": null,
   "metadata": {},
   "outputs": [],
   "source": []
  }
 ],
 "metadata": {
  "kernelspec": {
   "display_name": "Python 3",
   "language": "python",
   "name": "python3"
  },
  "language_info": {
   "codemirror_mode": {
    "name": "ipython",
    "version": 3
   },
   "file_extension": ".py",
   "mimetype": "text/x-python",
   "name": "python",
   "nbconvert_exporter": "python",
   "pygments_lexer": "ipython3",
   "version": "3.7.0"
  }
 },
 "nbformat": 4,
 "nbformat_minor": 4
}
