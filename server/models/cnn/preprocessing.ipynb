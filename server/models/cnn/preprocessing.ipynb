{
 "cells": [
  {
   "cell_type": "code",
   "execution_count": 50,
   "metadata": {},
   "outputs": [],
   "source": [
    "import sys\n",
    "import os\n",
    "\n",
    "# Workaround to make packages work in both Jupyter notebook and Python\n",
    "MODULE_ROOT_NAME = \"AgeEstimator\"\n",
    "MODULE_PATHS = [\n",
    "    os.path.abspath(os.path.join('..')),\n",
    "    os.path.abspath(os.path.join('../..')),\n",
    "    os.path.abspath(os.path.join('../../..'))\n",
    "]\n",
    "MODULE_PATHS = list(\n",
    "    filter(lambda x: x.endswith(MODULE_ROOT_NAME), MODULE_PATHS))\n",
    "MODULE_PATH = MODULE_PATHS[0] if len(MODULE_PATHS) == 1 else \"\"\n",
    "if MODULE_PATH not in sys.path:\n",
    "    sys.path.append(MODULE_PATH)\n",
    "    \n",
    "from server.data.dataset import DataLoader\n",
    "from server.models.cnn.model import IMAGE_SIZE, INPUT_SHAPE, CURR_DIR"
   ]
  },
  {
   "cell_type": "code",
   "execution_count": 63,
   "metadata": {},
   "outputs": [],
   "source": [
    "import numpy as np\n",
    "import cv2\n",
    "import matplotlib.pyplot as plt\n",
    "from mtcnn.mtcnn import MTCNN\n",
    "from keras_vggface.utils import preprocess_input\n",
    "from keras_vggface.vggface import VGGFace\n",
    "from multiprocessing import cpu_count"
   ]
  },
  {
   "cell_type": "code",
   "execution_count": 64,
   "metadata": {},
   "outputs": [],
   "source": [
    "# Shared model to create bottleneck features\n",
    "\n",
    "model = VGGFace(model=\"resnet50\", include_top=False,\n",
    "                   input_shape=INPUT_SHAPE)\n",
    "\n",
    "workers = cpu_count() - 1"
   ]
  },
  {
   "cell_type": "code",
   "execution_count": 66,
   "metadata": {},
   "outputs": [],
   "source": [
    "def extract_face(filename, input_image=None, img_size=IMAGE_SIZE):\n",
    "    r\"\"\"Extract a single face from a given photograph\"\"\"\n",
    "\n",
    "    img = input_image if input_image else plt.imread(filename)\n",
    "    \n",
    "    # Create the detector, using default weights\n",
    "    detector = MTCNN()\n",
    "    detection = detector.detect_faces(img)\n",
    "\n",
    "    # Extract the bounding box from the first face\n",
    "    x1, y1, width, height = detection[0]['box']\n",
    "    x2, y2 = x1 + width, y1 + height\n",
    "    face = img[y1:y2, x1:x2]\n",
    "    \n",
    "    # Resize pixels to the model size\n",
    "    image = Image.fromarray(face)\n",
    "    image = image.resize(img_size)\n",
    "    face_array = np.asarray(image)\n",
    "    return face_array.astype('float32')"
   ]
  },
  {
   "cell_type": "code",
   "execution_count": 55,
   "metadata": {},
   "outputs": [],
   "source": [
    "def preprocess_image(img):\n",
    "    print(\"Processing image...\")\n",
    "    img = extract_face(input_image=img)\n",
    "    img = expand_dims(img, axis=0)\n",
    "    \n",
    "    print(\"Preprocessing input...\")\n",
    "    processed = preprocess_input(img, version=2)\n",
    "    \n",
    "    print(\"Creating bottleneck features...\")\n",
    "    y_hat = model.predict(processed)\n",
    "    \n",
    "    print(\"Done.\")\n",
    "    return y_hat"
   ]
  },
  {
   "cell_type": "code",
   "execution_count": 65,
   "metadata": {},
   "outputs": [],
   "source": [
    "def preprocess_dataset():\n",
    "    dl = DataLoader()\n",
    "    \n",
    "    x_train, y_train = dl.load_train()\n",
    "    x_test, y_test   = dl.load_test()\n",
    "    \n",
    "    print(\"Processing training images...\")\n",
    "    x_train_labels   = []\n",
    "    x_train_features = []\n",
    "    for i, fname in enumerate(x_train):\n",
    "        try:\n",
    "            feature = extract_face(fname)\n",
    "        except:\n",
    "            continue\n",
    "        x_train_labels.append(y_train[i])\n",
    "        x_train_features.append(feature)\n",
    "        \n",
    "    print(\"Processing test images...\")\n",
    "    x_test_labels   = []\n",
    "    x_test_features = []\n",
    "    for i, fname in enumerate(x_test):\n",
    "        try:\n",
    "            feature = extract_face(fname)\n",
    "        except:\n",
    "            continue\n",
    "        x_test_labels.append(y_test[i])\n",
    "        x_test_features.append(feature)\n",
    "    \n",
    "    print(\"Preprocessing inputs...\")\n",
    "    x_train_processed = preprocess_input(x_train_features, version=2)\n",
    "    x_test_processed  = preprocess_input(x_test_features, version=2)\n",
    "    \n",
    "    print(\"Creating bottleneck features...\")\n",
    "    p_train = model.predict(x_train_processed, workers=workers, use_multiprocessing=True)\n",
    "    p_test  = model.predict(x_test_processed, workers=workers, use_multiprocessing=True)\n",
    "    \n",
    "    print(\"Saving features...\")\n",
    "    np.save(os.path.join(CURR_DIR, \"features-train\"), p_train)\n",
    "    np.save(os.path.join(CURR_DIR, \"features-test\"), p_test)\n",
    "    np.save(os.path.join(CURR_DIR, \"labels-train\"), x_train_labels)\n",
    "    np.save(os.path.join(CURR_DIR, \"labels-test\"), x_test_labels)\n",
    "    \n",
    "    print(\"Done.\")\n",
    "    return p_train, p_test\n",
    "    "
   ]
  },
  {
   "cell_type": "code",
   "execution_count": null,
   "metadata": {},
   "outputs": [
    {
     "name": "stdout",
     "output_type": "stream",
     "text": [
      "Processing training images...\n"
     ]
    }
   ],
   "source": [
    "y_train, y_test = preprocess_dataset()"
   ]
  },
  {
   "cell_type": "code",
   "execution_count": null,
   "metadata": {},
   "outputs": [],
   "source": []
  }
 ],
 "metadata": {
  "kernelspec": {
   "display_name": "Python 3",
   "language": "python",
   "name": "python3"
  },
  "language_info": {
   "codemirror_mode": {
    "name": "ipython",
    "version": 3
   },
   "file_extension": ".py",
   "mimetype": "text/x-python",
   "name": "python",
   "nbconvert_exporter": "python",
   "pygments_lexer": "ipython3",
   "version": "3.7.4"
  }
 },
 "nbformat": 4,
 "nbformat_minor": 4
}
