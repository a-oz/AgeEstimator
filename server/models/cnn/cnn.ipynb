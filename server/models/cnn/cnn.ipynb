{
 "cells": [
  {
   "cell_type": "code",
   "execution_count": 15,
   "metadata": {},
   "outputs": [],
   "source": [
    "import sys\n",
    "import os\n",
    "\n",
    "# Workaround to make packages work in both Jupyter notebook and Python\n",
    "MODULE_ROOT_NAME = \"AgeEstimator\"\n",
    "MODULE_PATHS = [\n",
    "    os.path.abspath(os.path.join('..')),\n",
    "    os.path.abspath(os.path.join('../..')),\n",
    "    os.path.abspath(os.path.join('../../..'))\n",
    "]\n",
    "MODULE_PATHS = list(\n",
    "    filter(lambda x: x.endswith(MODULE_ROOT_NAME), MODULE_PATHS))\n",
    "MODULE_PATH = MODULE_PATHS[0] if len(MODULE_PATHS) == 1 else \"\"\n",
    "if MODULE_PATH not in sys.path:\n",
    "    sys.path.append(MODULE_PATH)\n",
    "    \n",
    "from server.models.cnn.data_loader import DataLoader\n",
    "from server.models.cnn.model import get_model, OLD_WEIGHTS_PATH, BEST_WEIGHTS_PATH, LABEL_MAPPING, get_models"
   ]
  },
  {
   "cell_type": "code",
   "execution_count": 16,
   "metadata": {},
   "outputs": [],
   "source": [
    "from tensorflow.keras import utils\n",
    "from tensorflow.keras.preprocessing.image import ImageDataGenerator\n",
    "from tensorflow.keras.optimizers import *\n",
    "from tensorflow.keras.utils import to_categorical\n",
    "import tensorflow as tf\n",
    "import matplotlib.image as img\n",
    "import numpy as np\n",
    "import pandas\n",
    "import multiprocessing"
   ]
  },
  {
   "cell_type": "code",
   "execution_count": 17,
   "metadata": {},
   "outputs": [],
   "source": [
    "batch_size = 64"
   ]
  },
  {
   "cell_type": "code",
   "execution_count": 18,
   "metadata": {},
   "outputs": [],
   "source": [
    "def get_label_to_category_map():\n",
    "    unique_labels = list(set(LABEL_MAPPING.values()))\n",
    "    category_map = {class_label: inx for inx, class_label in enumerate(unique_labels)}\n",
    "    category_map_r = {inx: class_label for inx, class_label in enumerate(unique_labels)}\n",
    "    return category_map, category_map_r"
   ]
  },
  {
   "cell_type": "code",
   "execution_count": 19,
   "metadata": {},
   "outputs": [],
   "source": [
    "def normalize_label(y):\n",
    "    category_map, _ = get_label_to_category_map()\n",
    "    normalize = lambda x: category_map[LABEL_MAPPING[x]]\n",
    "    return np.vectorize(normalize)(y)"
   ]
  },
  {
   "cell_type": "code",
   "execution_count": 20,
   "metadata": {},
   "outputs": [],
   "source": [
    "def get_img_generators():\n",
    "    train_datagen = ImageDataGenerator(\n",
    "        rescale=1./255,\n",
    "        rotation_range=40,\n",
    "        width_shift_range=0.2,\n",
    "        height_shift_range=0.2,\n",
    "        shear_range=0.2,\n",
    "        zoom_range=0.2,\n",
    "        horizontal_flip=True)\n",
    "    \n",
    "    valid_datagen = ImageDataGenerator(rescale=1./255)\n",
    "    test_datagen = ImageDataGenerator(rescale=1./255)\n",
    "\n",
    "    return train_datagen, valid_datagen, test_datagen"
   ]
  },
  {
   "cell_type": "code",
   "execution_count": 21,
   "metadata": {},
   "outputs": [],
   "source": [
    "def get_dataframe(x, y, name, sample_size=0):\n",
    "    # Stack to [[img, label], ...] matrix\n",
    "    stk = np.column_stack((x, y))\n",
    "    \n",
    "    # Save as csv\n",
    "    np.savetxt(\"%s.csv\" % (name), stk, fmt=\"%s\", delimiter=\",\", comments=\"\", header=\"FilePath,Age\")\n",
    "    \n",
    "    # `flow_from_dataframe` requires loading labels as string\n",
    "    df = pandas.read_csv(\"./%s.csv\" % (name), dtype=str)\n",
    "    \n",
    "    return df if sample_size == 0 else df.sample(n=sample_size)"
   ]
  },
  {
   "cell_type": "code",
   "execution_count": 22,
   "metadata": {},
   "outputs": [],
   "source": [
    "def split_train_valid(df):\n",
    "    train_df = df.sample(frac=0.9)\n",
    "    validation_df = df.drop(train_df.index)\n",
    "    return train_df, validation_df"
   ]
  },
  {
   "cell_type": "code",
   "execution_count": 23,
   "metadata": {},
   "outputs": [],
   "source": [
    "def to_generator(datagen, dataframe, directory, batch_size=batch_size):\n",
    "    g = datagen.flow_from_dataframe(\n",
    "        dataframe=dataframe,\n",
    "        directory=directory,\n",
    "        x_col=\"FilePath\",\n",
    "        y_col=\"Age\",\n",
    "        target_size=(250, 250),\n",
    "        batch_size=batch_size,\n",
    "#         class_mode='sparse',\n",
    "        class_mode=\"categorical\"\n",
    "    )\n",
    "\n",
    "    # Convert to tf.data to better utilize multiprocessing\n",
    "    n_class = len(np.unique(np.array(dataframe[\"Age\"])))\n",
    "    tf_g = tf.data.Dataset.from_generator(lambda: g,\n",
    "        output_types=(tf.float32, tf.float32),\n",
    "        output_shapes=(\n",
    "            tf.TensorShape([None, 250, 250, 3]), \n",
    "            tf.TensorShape([None, 55])\n",
    "        )\n",
    "    )\n",
    "\n",
    "    return tf_g"
   ]
  },
  {
   "cell_type": "code",
   "execution_count": 24,
   "metadata": {},
   "outputs": [],
   "source": [
    "def get_callbacks(log_dir):\n",
    "    from tensorflow.keras.callbacks import EarlyStopping, ModelCheckpoint, TensorBoard, ReduceLROnPlateau\n",
    "\n",
    "    es = EarlyStopping(\n",
    "        monitor='val_loss',\n",
    "        mode='min',\n",
    "        verbose=1,\n",
    "        patience=20)\n",
    "    \n",
    "    tb = TensorBoard(\n",
    "        log_dir=log_dir,\n",
    "        histogram_freq=0,\n",
    "        write_graph=True,\n",
    "        write_grads=False,\n",
    "        write_images=False,\n",
    "        embeddings_freq=0,\n",
    "        embeddings_layer_names=None,\n",
    "        embeddings_metadata=None,\n",
    "        embeddings_data=None,\n",
    "        update_freq='epoch')\n",
    "    \n",
    "    mc = ModelCheckpoint(\n",
    "        BEST_WEIGHTS_PATH,\n",
    "#         monitor='val_loss',\n",
    "#         mode='min',\n",
    "        monitor='val_categorical_accuracy',\n",
    "        mode='max',\n",
    "        verbose=1,\n",
    "        save_weights_only=True,\n",
    "        save_best_only=True)\n",
    "    \n",
    "    reduce_lr = ReduceLROnPlateau(\n",
    "        monitor='val_loss',\n",
    "        factor=0.2,\n",
    "        patience=5,\n",
    "        min_lr=0.0001)\n",
    "    \n",
    "    return [mc, es, tb, reduce_lr]"
   ]
  },
  {
   "cell_type": "code",
   "execution_count": 25,
   "metadata": {},
   "outputs": [],
   "source": [
    "def get_log_dir():\n",
    "    log_i = 0\n",
    "    log_dir = \"logs/run_\"\n",
    "    \n",
    "    while os.path.exists(log_dir + str(log_i)):\n",
    "        log_i += 1\n",
    "\n",
    "    return log_dir + str(log_i)"
   ]
  },
  {
   "cell_type": "code",
   "execution_count": 26,
   "metadata": {},
   "outputs": [],
   "source": [
    "def train(train_generator, valid_generator, train_len, valid_len):\n",
    "    epochs = 20\n",
    "    \n",
    "    model = get_model()\n",
    "    optimizer = Nadam(lr=0.01, beta_1=0.9, beta_2=0.999)\n",
    "\n",
    "    model.compile(loss=\"categorical_crossentropy\", optimizer=optimizer, \\\n",
    "                  metrics=[\"categorical_accuracy\"])\n",
    "    \n",
    "    if os.path.exists(BEST_WEIGHTS_PATH):\n",
    "        model.load_weights(BEST_WEIGHTS_PATH)\n",
    "    elif os.path.exists(OLD_WEIGHTS_PATH):\n",
    "        model.load_weights(OLD_WEIGHTS_PATH)\n",
    "    \n",
    "    log_dir = get_log_dir()\n",
    "    callbacks = get_callbacks(log_dir)\n",
    "\n",
    "    model.fit(\n",
    "        x=train_generator,\n",
    "        steps_per_epoch=train_len // batch_size,\n",
    "        epochs=epochs,\n",
    "        verbose=1,\n",
    "        validation_data=valid_generator,\n",
    "        validation_steps=valid_len // batch_size,\n",
    "        callbacks=callbacks,\n",
    "        workers=max(2, multiprocessing.cpu_count() - 2),\n",
    "        use_multiprocessing=True\n",
    "    )\n",
    "    \n",
    "    model.save_weights(OLD_WEIGHTS_PATH)\n",
    "\n",
    "    return model"
   ]
  },
  {
   "cell_type": "code",
   "execution_count": 27,
   "metadata": {},
   "outputs": [],
   "source": [
    "def train_many(train_generator, valid_generator, train_len, valid_len):\n",
    "    epochs = 20\n",
    "    models = get_models()\n",
    "    \n",
    "    for m in models:\n",
    "        model_name, optimizer, model = m\n",
    "        print(\"== Training %s ==\" % model_name)\n",
    "\n",
    "        model.compile(loss=\"categorical_crossentropy\", optimizer=optimizer, \\\n",
    "                      metrics=[\"categorical_accuracy\"])\n",
    "\n",
    "        log_dir = get_log_dir()\n",
    "        callbacks = get_callbacks(log_dir + \"/%s\" % model_name)\n",
    "\n",
    "        model.fit(\n",
    "            x=train_generator,\n",
    "            steps_per_epoch=train_len // batch_size,\n",
    "            epochs=epochs,\n",
    "            verbose=1,\n",
    "            validation_data=valid_generator,\n",
    "            validation_steps=valid_len // batch_size,\n",
    "            callbacks=callbacks,\n",
    "            workers=max(2, multiprocessing.cpu_count() - 2),\n",
    "            use_multiprocessing=True\n",
    "        )\n",
    "\n",
    "        model.save_weights(\"%s_weight.hdf5\" % model_name)\n",
    "\n",
    "    return model"
   ]
  },
  {
   "cell_type": "code",
   "execution_count": 13,
   "metadata": {},
   "outputs": [],
   "source": [
    "def main(sample_size=0):\n",
    "    dl = DataLoader()\n",
    "    x_train, y_train = dl.load_train()\n",
    "    x_test, y_test = dl.load_test()\n",
    "    \n",
    "    y_train = normalize_label(y_train)\n",
    "    y_test = normalize_label(y_test)\n",
    "    \n",
    "    train_df = get_dataframe(x_train, y_train, \"train\", sample_size=sample_size)\n",
    "    train_df, valid_df = split_train_valid(train_df)\n",
    "    test_df = get_dataframe(x_test, y_test, \"test\", sample_size=sample_size // 10)\n",
    "\n",
    "    train_datagen, valid_datagen, test_datagen = get_img_generators()\n",
    "    \n",
    "    train_generator = to_generator(train_datagen, train_df, dl.train_dir)\n",
    "    valid_generator = to_generator(valid_datagen, valid_df, dl.valid_dir)\n",
    "    test_generator = to_generator(test_datagen, test_df, dl.test_dir)\n",
    "    \n",
    "    train_len = len(train_df)\n",
    "    valid_len = len(valid_df)\n",
    "    test_len = len(test_df)\n",
    "    \n",
    "    train_many(train_generator, valid_generator, train_len, valid_len)\n",
    "#     trained_model = train(train_generator, valid_generator, train_len, valid_len)\n",
    "    \n",
    "#     evaluation = trained_model.evaluate(\n",
    "#         x=test_generator, steps=test_len // batch_size)\n",
    "#     y_hat = trained_model.predict(\n",
    "#         x=test_generator, steps=test_len // batch_size)\n",
    "    \n",
    "#     print(evaluation)\n",
    "    \n",
    "#     return evaluation, y_hat, y_test"
   ]
  },
  {
   "cell_type": "code",
   "execution_count": 14,
   "metadata": {},
   "outputs": [
    {
     "name": "stdout",
     "output_type": "stream",
     "text": [
      "Found 25600 validated image filenames belonging to 55 classes.\n",
      "Found 2560 validated image filenames belonging to 55 classes.\n",
      "Found 2560 validated image filenames belonging to 55 classes.\n",
      "[('nadam1_vgg16-256-2Dense_nodrop_he_uniform', <tensorflow.python.keras.optimizer_v2.nadam.Nadam object at 0x7f50faa1fb50>, <tensorflow.python.keras.engine.training.Model object at 0x7f50fa9f71d0>)]\n",
      "== Training nadam1_vgg16-256-2Dense_nodrop_he_uniform ==\n",
      "Train for 400 steps, validate for 40 steps\n",
      "Epoch 1/20\n",
      "399/400 [============================>.] - ETA: 0s - loss: 7.9491 - categorical_accuracy: 0.0275\n",
      "Epoch 00001: val_categorical_accuracy improved from -inf to 0.02930, saving model to best_res50_classification_weights.hdf5\n",
      "400/400 [==============================] - 332s 829ms/step - loss: 7.9391 - categorical_accuracy: 0.0275 - val_loss: 3.8950 - val_categorical_accuracy: 0.0293\n",
      "Epoch 2/20\n",
      "399/400 [============================>.] - ETA: 0s - loss: 4.1347 - categorical_accuracy: 0.0332\n",
      "Epoch 00002: val_categorical_accuracy did not improve from 0.02930\n",
      "400/400 [==============================] - 264s 660ms/step - loss: 4.1342 - categorical_accuracy: 0.0332 - val_loss: 3.8915 - val_categorical_accuracy: 0.0246\n",
      "Epoch 3/20\n",
      "399/400 [============================>.] - ETA: 0s - loss: 4.2174 - categorical_accuracy: 0.0332\n",
      "Epoch 00003: val_categorical_accuracy improved from 0.02930 to 0.03086, saving model to best_res50_classification_weights.hdf5\n",
      "400/400 [==============================] - 264s 661ms/step - loss: 4.2164 - categorical_accuracy: 0.0331 - val_loss: 3.8861 - val_categorical_accuracy: 0.0309\n",
      "Epoch 4/20\n",
      "399/400 [============================>.] - ETA: 0s - loss: 3.9156 - categorical_accuracy: 0.0333\n",
      "Epoch 00004: val_categorical_accuracy did not improve from 0.03086\n",
      "400/400 [==============================] - 264s 659ms/step - loss: 3.9157 - categorical_accuracy: 0.0333 - val_loss: 3.8855 - val_categorical_accuracy: 0.0285\n",
      "Epoch 5/20\n",
      "399/400 [============================>.] - ETA: 0s - loss: 4.2226 - categorical_accuracy: 0.0334\n",
      "Epoch 00005: val_categorical_accuracy did not improve from 0.03086\n",
      "400/400 [==============================] - 264s 660ms/step - loss: 4.2217 - categorical_accuracy: 0.0333 - val_loss: 3.8873 - val_categorical_accuracy: 0.0301\n",
      "Epoch 6/20\n",
      "399/400 [============================>.] - ETA: 0s - loss: 3.8802 - categorical_accuracy: 0.0333\n",
      "Epoch 00006: val_categorical_accuracy did not improve from 0.03086\n",
      "400/400 [==============================] - 264s 659ms/step - loss: 3.8802 - categorical_accuracy: 0.0332 - val_loss: 3.8924 - val_categorical_accuracy: 0.0293\n",
      "Epoch 7/20\n",
      "399/400 [============================>.] - ETA: 0s - loss: 3.8801 - categorical_accuracy: 0.0332\n",
      "Epoch 00007: val_categorical_accuracy did not improve from 0.03086\n",
      "400/400 [==============================] - 264s 660ms/step - loss: 3.8799 - categorical_accuracy: 0.0332 - val_loss: 3.8965 - val_categorical_accuracy: 0.0305\n",
      "Epoch 8/20\n",
      "399/400 [============================>.] - ETA: 0s - loss: 3.8803 - categorical_accuracy: 0.0332\n",
      "Epoch 00008: val_categorical_accuracy did not improve from 0.03086\n",
      "400/400 [==============================] - 263s 659ms/step - loss: 3.8804 - categorical_accuracy: 0.0332 - val_loss: 3.9004 - val_categorical_accuracy: 0.0270\n",
      "Epoch 9/20\n",
      "399/400 [============================>.] - ETA: 0s - loss: 3.8804 - categorical_accuracy: 0.0328\n",
      "Epoch 00009: val_categorical_accuracy did not improve from 0.03086\n",
      "400/400 [==============================] - 264s 659ms/step - loss: 3.8804 - categorical_accuracy: 0.0328 - val_loss: 3.8868 - val_categorical_accuracy: 0.0309\n",
      "Epoch 10/20\n",
      "399/400 [============================>.] - ETA: 0s - loss: 3.8788 - categorical_accuracy: 0.0332\n",
      "Epoch 00010: val_categorical_accuracy improved from 0.03086 to 0.03125, saving model to best_res50_classification_weights.hdf5\n",
      "400/400 [==============================] - 264s 661ms/step - loss: 3.8787 - categorical_accuracy: 0.0332 - val_loss: 3.8861 - val_categorical_accuracy: 0.0312\n",
      "Epoch 11/20\n",
      "399/400 [============================>.] - ETA: 0s - loss: 3.8783 - categorical_accuracy: 0.0332\n",
      "Epoch 00011: val_categorical_accuracy did not improve from 0.03125\n",
      "400/400 [==============================] - 264s 659ms/step - loss: 3.8784 - categorical_accuracy: 0.0332 - val_loss: 3.8905 - val_categorical_accuracy: 0.0293\n",
      "Epoch 12/20\n",
      "399/400 [============================>.] - ETA: 0s - loss: 3.8782 - categorical_accuracy: 0.0332\n",
      "Epoch 00012: val_categorical_accuracy did not improve from 0.03125\n",
      "400/400 [==============================] - 264s 659ms/step - loss: 3.8783 - categorical_accuracy: 0.0332 - val_loss: 3.8980 - val_categorical_accuracy: 0.0285\n",
      "Epoch 13/20\n",
      "399/400 [============================>.] - ETA: 0s - loss: 3.8784 - categorical_accuracy: 0.0332\n",
      "Epoch 00013: val_categorical_accuracy improved from 0.03125 to 0.03203, saving model to best_res50_classification_weights.hdf5\n",
      "400/400 [==============================] - 264s 659ms/step - loss: 3.8783 - categorical_accuracy: 0.0332 - val_loss: 3.8794 - val_categorical_accuracy: 0.0320\n",
      "Epoch 14/20\n",
      "399/400 [============================>.] - ETA: 0s - loss: 3.8783 - categorical_accuracy: 0.0332\n",
      "Epoch 00014: val_categorical_accuracy did not improve from 0.03203\n",
      "400/400 [==============================] - 264s 661ms/step - loss: 3.8783 - categorical_accuracy: 0.0332 - val_loss: 3.8916 - val_categorical_accuracy: 0.0285\n",
      "Epoch 15/20\n",
      "399/400 [============================>.] - ETA: 0s - loss: 3.8784 - categorical_accuracy: 0.0332\n",
      "Epoch 00015: val_categorical_accuracy did not improve from 0.03203\n",
      "400/400 [==============================] - 265s 662ms/step - loss: 3.8783 - categorical_accuracy: 0.0332 - val_loss: 3.8856 - val_categorical_accuracy: 0.0309\n",
      "Epoch 16/20\n",
      "399/400 [============================>.] - ETA: 0s - loss: 3.8782 - categorical_accuracy: 0.0332\n",
      "Epoch 00016: val_categorical_accuracy did not improve from 0.03203\n",
      "400/400 [==============================] - 264s 660ms/step - loss: 3.8783 - categorical_accuracy: 0.0332 - val_loss: 3.8905 - val_categorical_accuracy: 0.0293\n",
      "Epoch 17/20\n",
      "399/400 [============================>.] - ETA: 0s - loss: 3.8816 - categorical_accuracy: 0.0332\n",
      "Epoch 00017: val_categorical_accuracy did not improve from 0.03203\n",
      "400/400 [==============================] - 264s 660ms/step - loss: 3.8815 - categorical_accuracy: 0.0332 - val_loss: 3.8966 - val_categorical_accuracy: 0.0285\n",
      "Epoch 18/20\n",
      "399/400 [============================>.] - ETA: 0s - loss: 3.8784 - categorical_accuracy: 0.0332\n",
      "Epoch 00018: val_categorical_accuracy did not improve from 0.03203\n",
      "400/400 [==============================] - 264s 660ms/step - loss: 3.8783 - categorical_accuracy: 0.0332 - val_loss: 3.9023 - val_categorical_accuracy: 0.0285\n",
      "Epoch 19/20\n",
      "399/400 [============================>.] - ETA: 0s - loss: 3.8778 - categorical_accuracy: 0.0332\n",
      "Epoch 00019: val_categorical_accuracy did not improve from 0.03203\n",
      "400/400 [==============================] - 264s 660ms/step - loss: 3.8779 - categorical_accuracy: 0.0332 - val_loss: 3.8951 - val_categorical_accuracy: 0.0293\n",
      "Epoch 20/20\n",
      "399/400 [============================>.] - ETA: 0s - loss: 3.8779 - categorical_accuracy: 0.0332\n",
      "Epoch 00020: val_categorical_accuracy did not improve from 0.03203\n",
      "400/400 [==============================] - 264s 659ms/step - loss: 3.8777 - categorical_accuracy: 0.0332 - val_loss: 3.8797 - val_categorical_accuracy: 0.0320\n"
     ]
    }
   ],
   "source": [
    "res = main()"
   ]
  },
  {
   "cell_type": "code",
   "execution_count": null,
   "metadata": {},
   "outputs": [],
   "source": []
  },
  {
   "cell_type": "code",
   "execution_count": null,
   "metadata": {},
   "outputs": [],
   "source": []
  },
  {
   "cell_type": "code",
   "execution_count": 14,
   "metadata": {},
   "outputs": [
    {
     "data": {
      "text/plain": [
       "array([29, 17, 17,  5, 15])"
      ]
     },
     "execution_count": 14,
     "metadata": {},
     "output_type": "execute_result"
    }
   ],
   "source": [
    "np.argmax(res[1][-5:], axis=1)"
   ]
  },
  {
   "cell_type": "code",
   "execution_count": 15,
   "metadata": {},
   "outputs": [
    {
     "data": {
      "text/plain": [
       "array([19, 30, 30,  7, 22])"
      ]
     },
     "execution_count": 15,
     "metadata": {},
     "output_type": "execute_result"
    }
   ],
   "source": [
    "res[2][-5:]"
   ]
  },
  {
   "cell_type": "code",
   "execution_count": null,
   "metadata": {},
   "outputs": [],
   "source": []
  },
  {
   "cell_type": "code",
   "execution_count": null,
   "metadata": {},
   "outputs": [],
   "source": []
  },
  {
   "cell_type": "code",
   "execution_count": null,
   "metadata": {},
   "outputs": [],
   "source": []
  },
  {
   "cell_type": "code",
   "execution_count": null,
   "metadata": {},
   "outputs": [],
   "source": []
  },
  {
   "cell_type": "code",
   "execution_count": null,
   "metadata": {},
   "outputs": [],
   "source": []
  },
  {
   "cell_type": "code",
   "execution_count": 11,
   "metadata": {},
   "outputs": [],
   "source": [
    "dl = DataLoader()\n",
    "x_train, y_train = dl.load_train()\n",
    "x_valid, y_valid = dl.load_valid()\n",
    "x_test, y_test = dl.load_test()"
   ]
  },
  {
   "cell_type": "code",
   "execution_count": 23,
   "metadata": {},
   "outputs": [],
   "source": [
    "samp = np.unique(np.array([*y_test, *y_train, *y_valid]), return_counts=True)"
   ]
  },
  {
   "cell_type": "code",
   "execution_count": 21,
   "metadata": {},
   "outputs": [],
   "source": [
    "import matplotlib.pyplot as plt\n",
    "%matplotlib inline "
   ]
  },
  {
   "cell_type": "code",
   "execution_count": 25,
   "metadata": {},
   "outputs": [],
   "source": [
    "def plot_sample(sample):\n",
    "    fig = plt.figure()\n",
    "    ax = fig.add_axes([0,0,1,1])\n",
    "    x = sample[0]\n",
    "    y = sample[1]\n",
    "    ax.bar(x,y)\n",
    "    plt.show()"
   ]
  },
  {
   "cell_type": "code",
   "execution_count": 26,
   "metadata": {},
   "outputs": [
    {
     "data": {
      "image/png": "[encoded data removed]",
      "text/plain": [
       "<Figure size 432x288 with 1 Axes>"
      ]
     },
     "metadata": {
      "needs_background": "light"
     },
     "output_type": "display_data"
    }
   ],
   "source": [
    "plot_sample(np.unique(np.array(y_test), return_counts=True))"
   ]
  },
  {
   "cell_type": "code",
   "execution_count": 27,
   "metadata": {},
   "outputs": [
    {
     "data": {
      "image/png": "[encoded data removed]",
      "text/plain": [
       "<Figure size 432x288 with 1 Axes>"
      ]
     },
     "metadata": {
      "needs_background": "light"
     },
     "output_type": "display_data"
    }
   ],
   "source": [
    "plot_sample(np.unique(np.array(y_valid), return_counts=True))"
   ]
  },
  {
   "cell_type": "code",
   "execution_count": 28,
   "metadata": {},
   "outputs": [
    {
     "data": {
      "image/png": "[encoded data removed]",
      "text/plain": [
       "<Figure size 432x288 with 1 Axes>"
      ]
     },
     "metadata": {
      "needs_background": "light"
     },
     "output_type": "display_data"
    }
   ],
   "source": [
    "plot_sample(np.unique(np.array(y_train), return_counts=True))"
   ]
  },
  {
   "cell_type": "code",
   "execution_count": 53,
   "metadata": {},
   "outputs": [],
   "source": [
    "big_arr = [*y_test, *y_train, *y_valid]\n",
    "samples = np.unique(np.array(big_arr), return_counts=True)\n",
    "total_count = len(big_arr)\n",
    "cums = np.cumsum(samples[1],axis=0)\n",
    "percentages = np.round(samples[1] / total_count,4) * 100\n",
    "cums_perc = np.cumsum(percentages,axis=0)\n",
    "\n"
   ]
  },
  {
   "cell_type": "code",
   "execution_count": 54,
   "metadata": {},
   "outputs": [],
   "source": [
    "\n",
    "stk = np.column_stack((samples[0], samples[1], percentages, cums, cums_perc))\n",
    "\n",
    "# Save as csv\n",
    "np.savetxt(\"all_count.csv\", stk, fmt=\"%s\", delimiter=\",\", comments=\"\", header=\"Age,Count,Perc,accCount,accPerc\")"
   ]
  },
  {
   "cell_type": "code",
   "execution_count": 58,
   "metadata": {},
   "outputs": [],
   "source": [
    "csv= pandas.read_csv(\"./age_class_mapping.csv\", dtype=str)"
   ]
  },
  {
   "cell_type": "code",
   "execution_count": 80,
   "metadata": {},
   "outputs": [
    {
     "data": {
      "text/plain": [
       "{1: 1,\n",
       " 2: 3,\n",
       " 3: 3,\n",
       " 4: 3,\n",
       " 5: 7,\n",
       " 6: 7,\n",
       " 7: 7,\n",
       " 8: 7,\n",
       " 9: 7,\n",
       " 10: 12,\n",
       " 11: 12,\n",
       " 12: 12,\n",
       " 13: 12,\n",
       " 14: 12,\n",
       " 15: 15,\n",
       " 16: 16,\n",
       " 17: 17,\n",
       " 18: 18,\n",
       " 19: 19,\n",
       " 20: 20,\n",
       " 21: 21,\n",
       " 22: 22,\n",
       " 23: 23,\n",
       " 24: 24,\n",
       " 25: 25,\n",
       " 26: 26,\n",
       " 27: 27,\n",
       " 28: 28,\n",
       " 29: 29,\n",
       " 30: 30,\n",
       " 31: 31,\n",
       " 32: 32,\n",
       " 33: 33,\n",
       " 34: 34,\n",
       " 35: 35,\n",
       " 36: 36,\n",
       " 37: 37,\n",
       " 38: 38,\n",
       " 39: 39,\n",
       " 40: 40,\n",
       " 41: 41,\n",
       " 42: 42,\n",
       " 43: 43,\n",
       " 44: 44,\n",
       " 45: 45,\n",
       " 46: 46,\n",
       " 47: 47,\n",
       " 48: 48,\n",
       " 49: 49,\n",
       " 50: 50,\n",
       " 51: 51,\n",
       " 52: 52,\n",
       " 53: 53,\n",
       " 54: 54,\n",
       " 55: 55,\n",
       " 56: 56,\n",
       " 57: 57,\n",
       " 58: 58,\n",
       " 59: 59,\n",
       " 60: 60,\n",
       " 61: 61,\n",
       " 62: 65,\n",
       " 63: 65,\n",
       " 64: 65,\n",
       " 65: 65,\n",
       " 66: 70,\n",
       " 67: 70,\n",
       " 68: 70,\n",
       " 69: 70,\n",
       " 70: 70,\n",
       " 71: 70,\n",
       " 72: 70,\n",
       " 73: 70,\n",
       " 74: 70,\n",
       " 75: 80,\n",
       " 76: 80,\n",
       " 77: 80,\n",
       " 78: 80,\n",
       " 79: 80,\n",
       " 80: 80,\n",
       " 81: 80,\n",
       " 82: 80,\n",
       " 83: 80,\n",
       " 84: 80,\n",
       " 85: 90,\n",
       " 86: 90,\n",
       " 87: 90,\n",
       " 88: 90,\n",
       " 89: 90,\n",
       " 90: 90,\n",
       " 91: 90,\n",
       " 92: 90,\n",
       " 93: 90,\n",
       " 94: 90,\n",
       " 95: 90,\n",
       " 96: 90,\n",
       " 97: 90,\n",
       " 98: 90,\n",
       " 99: 90,\n",
       " 100: 90,\n",
       " 101: 90,\n",
       " 102: 90,\n",
       " 103: 90,\n",
       " 104: 90,\n",
       " 105: 90,\n",
       " 106: 90,\n",
       " 107: 90,\n",
       " 108: 90,\n",
       " 109: 90,\n",
       " 110: 90,\n",
       " 111: 90,\n",
       " 112: 90,\n",
       " 113: 90,\n",
       " 114: 90,\n",
       " 115: 90,\n",
       " 116: 90,\n",
       " 117: 90}"
      ]
     },
     "execution_count": 80,
     "metadata": {},
     "output_type": "execute_result"
    }
   ],
   "source": [
    "pandas.Series.from_csv(\"./age_class_mapping.csv\", header=0).to_dict()"
   ]
  },
  {
   "cell_type": "code",
   "execution_count": 72,
   "metadata": {},
   "outputs": [],
   "source": [
    "pc = np.round(np.array(csv[\"Count\"]).astype(int) / total_count * 100, 2)"
   ]
  },
  {
   "cell_type": "code",
   "execution_count": 73,
   "metadata": {},
   "outputs": [],
   "source": [
    "np.savetxt(\"all_tmp.csv\", pc, fmt=\"%s\", delimiter=\",\", comments=\"\", header=\"PC\")"
   ]
  },
  {
   "cell_type": "code",
   "execution_count": null,
   "metadata": {},
   "outputs": [],
   "source": []
  }
 ],
 "metadata": {
  "kernelspec": {
   "display_name": "Python 3",
   "language": "python",
   "name": "python3"
  },
  "language_info": {
   "codemirror_mode": {
    "name": "ipython",
    "version": 3
   },
   "file_extension": ".py",
   "mimetype": "text/x-python",
   "name": "python",
   "nbconvert_exporter": "python",
   "pygments_lexer": "ipython3",
   "version": "3.7.4"
  }
 },
 "nbformat": 4,
 "nbformat_minor": 4
}
