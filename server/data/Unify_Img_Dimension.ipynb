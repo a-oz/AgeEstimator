{
 "cells": [
  {
   "cell_type": "code",
   "execution_count": 72,
   "metadata": {},
   "outputs": [],
   "source": [
    "import glob\n",
    "import re\n",
    "import matplotlib.image as img\n",
    "import os\n",
    "import shutil\n",
    "import utils"
   ]
  },
  {
   "cell_type": "code",
   "execution_count": 56,
   "metadata": {},
   "outputs": [],
   "source": [
    "def calc_padding_digits(directories):\n",
    "    max_digits = 0\n",
    "    for directory in directories:\n",
    "        size = len([name for name in os.listdir(directory) \\\n",
    "             if os.path.isfile(directory + name)])\n",
    "        digits = len(str(size))\n",
    "        max_digits = max(digits, max_digits)\n",
    "    return max_digits"
   ]
  },
  {
   "cell_type": "code",
   "execution_count": 57,
   "metadata": {},
   "outputs": [],
   "source": [
    "def init_dir(dir_name):\n",
    "    try:\n",
    "        shutil.rmtree(dir_name)\n",
    "    except:\n",
    "        pass\n",
    "\n",
    "    os.mkdir(dir_name)"
   ]
  },
  {
   "cell_type": "code",
   "execution_count": 58,
   "metadata": {},
   "outputs": [],
   "source": [
    "# Calculate padding for file names\n",
    "padding_digits = calc_padding_digits( [\"utkface/\", \"CACD/\"])\n",
    "target_dir = \"dim_unified\"\n",
    "\n",
    "init_dir(target_dir)"
   ]
  },
  {
   "cell_type": "markdown",
   "metadata": {},
   "source": [
    "## UTKFace"
   ]
  },
  {
   "cell_type": "code",
   "execution_count": 60,
   "metadata": {},
   "outputs": [],
   "source": [
    "age_labels_utk = []\n",
    "\n",
    "for i, file_name in enumerate(glob.glob(\"utkface/*.jpg\")):\n",
    "    image = img.imread(file_name)\n",
    "\n",
    "    file_name = re.sub(r'^\\D+\\/', '', file_name)\n",
    "    age = utils.get_age_by_file_name(file_name)\n",
    "    age_labels_utk.append(age)\n",
    "\n",
    "    utils.resize_rgb_img(image, (250, 250), '%s/utk_%s.jpg' % (\n",
    "        target_dir,\n",
    "        str(i + 1).zfill(padding_digits)\n",
    "    ))"
   ]
  },
  {
   "cell_type": "markdown",
   "metadata": {},
   "source": [
    "## CACD"
   ]
  },
  {
   "cell_type": "code",
   "execution_count": 64,
   "metadata": {},
   "outputs": [],
   "source": [
    "age_labels_cacd = []\n",
    "for i, file_name in enumerate(glob.glob(\"CACD/*.jpg\")):\n",
    "    file_name = re.sub(r'^\\D+\\/', '', file_name)\n",
    "    age = utils.get_age_by_file_name(file_name)\n",
    "    age_labels_cacd.append(age)\n",
    "\n",
    "    shutil.copyfile(\"CACD/\" + file_name, '%s/cacd_%s.jpg' % (\n",
    "        target_dir,\n",
    "        str(i + 1).zfill(padding_digits)\n",
    "    ))"
   ]
  },
  {
   "cell_type": "markdown",
   "metadata": {},
   "source": [
    "## Create label file"
   ]
  },
  {
   "cell_type": "code",
   "execution_count": 66,
   "metadata": {},
   "outputs": [],
   "source": [
    "labels = [*age_labels_cacd, *age_labels_utk]"
   ]
  },
  {
   "cell_type": "code",
   "execution_count": 75,
   "metadata": {},
   "outputs": [],
   "source": [
    "utils.save_result_as_file(labels, \"labels.dat\")"
   ]
  },
  {
   "cell_type": "code",
   "execution_count": null,
   "metadata": {},
   "outputs": [],
   "source": []
  }
 ],
 "metadata": {
  "kernelspec": {
   "display_name": "Python 3",
   "language": "python",
   "name": "python3"
  },
  "language_info": {
   "codemirror_mode": {
    "name": "ipython",
    "version": 3
   },
   "file_extension": ".py",
   "mimetype": "text/x-python",
   "name": "python",
   "nbconvert_exporter": "python",
   "pygments_lexer": "ipython3",
   "version": "3.7.0"
  }
 },
 "nbformat": 4,
 "nbformat_minor": 2
}
