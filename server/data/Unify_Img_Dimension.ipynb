{
 "cells": [
  {
   "cell_type": "code",
   "execution_count": 140,
   "metadata": {},
   "outputs": [],
   "source": [
    "import matplotlib.image as img\n",
    "import numpy as np"
   ]
  },
  {
   "cell_type": "code",
   "execution_count": 133,
   "metadata": {},
   "outputs": [],
   "source": [
    "image = img.imread(\"bob2.jpg\")\n",
    "image2 = img.imread(\"bob.jpg\")"
   ]
  },
  {
   "cell_type": "code",
   "execution_count": 141,
   "metadata": {},
   "outputs": [],
   "source": [
    "def resize_rgb_img(image, new_rows, new_cols, file_name=None):\n",
    "    r\"\"\"resize the given RGB image.\n",
    "    \n",
    "    Args:\n",
    "        @image: the image read by \"matplotlib.image.imread\"\n",
    "        @new_shape: tuple of dimension of new rows and new columns\n",
    "        @file_name: optional file name deciding saving the file on disk\n",
    "            or return the resized image\n",
    "    returns:\n",
    "        The resized image if no file name passed in\n",
    "    \"\"\"\n",
    "    assert(len(image.shape) == 3) # row + col + channel\n",
    "    assert(image.shape[2] == 3)\n",
    "    \n",
    "    new_rows, new_cols = new_shape\n",
    "\n",
    "    old_rows = image.shape[0]\n",
    "    old_cols = image.shape[1]\n",
    "    \n",
    "    ratio_r = new_rows / old_rows\n",
    "    ratio_c = new_cols / old_cols\n",
    "    \n",
    "    pos_row = np.floor( np.arange(old_rows * ratio_r) / ratio_r).astype('int64')\n",
    "    pos_col = np.floor( np.arange(old_cols * ratio_c) / ratio_c).astype('int64')\n",
    "    \n",
    "    r = image[:,:,0]\n",
    "    g = image[:,:,1]\n",
    "    b = image[:,:,2]\n",
    "    \n",
    "    red = r[pos_row,:]\n",
    "    red = red[:,pos_col]\n",
    "    green = g[pos_row,:]\n",
    "    green = green[:,pos_col]\n",
    "    blue = b[pos_row,:]\n",
    "    blue = blue[:,pos_col]\n",
    "    \n",
    "    output_img = np.zeros([new_rows, new_cols, 3])\n",
    "    output_img[:,:,0] = red\n",
    "    output_img[:,:,1] = green\n",
    "    output_img[:,:,2] = blue\n",
    "    \n",
    "    if file_name:\n",
    "        img.imsave(file_name, output_img.astype(np.uint8))\n",
    "\n",
    "    else:\n",
    "        return output_img"
   ]
  },
  {
   "cell_type": "code",
   "execution_count": 142,
   "metadata": {},
   "outputs": [],
   "source": [
    "resize_rgb_img(image2, 900, 900, \"ss.jpg\")"
   ]
  },
  {
   "cell_type": "code",
   "execution_count": null,
   "metadata": {},
   "outputs": [],
   "source": []
  }
 ],
 "metadata": {
  "kernelspec": {
   "display_name": "Python 3",
   "language": "python",
   "name": "python3"
  },
  "language_info": {
   "codemirror_mode": {
    "name": "ipython",
    "version": 3
   },
   "file_extension": ".py",
   "mimetype": "text/x-python",
   "name": "python",
   "nbconvert_exporter": "python",
   "pygments_lexer": "ipython3",
   "version": "3.7.2"
  }
 },
 "nbformat": 4,
 "nbformat_minor": 2
}
